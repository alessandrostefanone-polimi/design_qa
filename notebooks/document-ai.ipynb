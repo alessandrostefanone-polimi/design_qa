{
 "cells": [
  {
   "cell_type": "markdown",
   "id": "f4f48f3b",
   "metadata": {},
   "source": [
    "# Doc To Graph"
   ]
  },
  {
   "cell_type": "code",
   "execution_count": 43,
   "id": "58313e89",
   "metadata": {},
   "outputs": [],
   "source": [
    "import base64\n",
    "import os\n",
    "from mistralai import Mistral\n",
    "from mistralai.extra import response_format_from_pydantic_model\n",
    "from dotenv import load_dotenv"
   ]
  },
  {
   "cell_type": "code",
   "execution_count": 44,
   "id": "b2f10a68",
   "metadata": {},
   "outputs": [
    {
     "data": {
      "text/plain": [
       "True"
      ]
     },
     "execution_count": 44,
     "metadata": {},
     "output_type": "execute_result"
    }
   ],
   "source": [
    "load_dotenv()"
   ]
  },
  {
   "cell_type": "code",
   "execution_count": 45,
   "id": "c2471f4e",
   "metadata": {},
   "outputs": [],
   "source": [
    "from pydantic import BaseModel, Field\n",
    "\n",
    "# BBOX Annotation response formats\n",
    "class Image(BaseModel):\n",
    "  image_type: str = Field(..., description=\"The type of the image.\")\n",
    "  short_description: str = Field(..., description=\"A description in english describing the image.\")\n",
    "  summary: str = Field(..., description=\"Summarize the image.\")"
   ]
  },
  {
   "cell_type": "code",
   "execution_count": 46,
   "id": "9abf41cc",
   "metadata": {},
   "outputs": [],
   "source": [
    "def encode_pdf(pdf_path):\n",
    "    \"\"\"Encode the pdf to base64.\"\"\"\n",
    "    try:\n",
    "        with open(pdf_path, \"rb\") as pdf_file:\n",
    "            return base64.b64encode(pdf_file.read()).decode('utf-8')\n",
    "    except FileNotFoundError:\n",
    "        print(f\"Error: The file {pdf_path} was not found.\")\n",
    "        return None\n",
    "    except Exception as e:  # Added general exception handling\n",
    "        print(f\"Error: {e}\")\n",
    "        return None"
   ]
  },
  {
   "cell_type": "code",
   "execution_count": 47,
   "id": "ab83a442",
   "metadata": {},
   "outputs": [],
   "source": [
    "# Path to your pdf\n",
    "pdf_path = \"../dataset/docs/FSAE_Rules_2024_V1.pdf\"\n",
    "\n",
    "# Getting the base64 string\n",
    "base64_pdf = encode_pdf(pdf_path)"
   ]
  },
  {
   "cell_type": "code",
   "execution_count": 48,
   "id": "354f4b21",
   "metadata": {},
   "outputs": [],
   "source": [
    "api_key = os.environ[\"MISTRAL_API_KEY\"]\n",
    "\n",
    "client = Mistral(api_key=api_key)"
   ]
  },
  {
   "cell_type": "code",
   "execution_count": 49,
   "id": "c94973ea",
   "metadata": {},
   "outputs": [],
   "source": [
    "ocr_response = client.ocr.process(\n",
    "    model=\"mistral-ocr-latest\",\n",
    "    document={\n",
    "        \"type\": \"document_url\",\n",
    "        \"document_url\": f\"data:application/pdf;base64,{base64_pdf}\" \n",
    "    },\n",
    "    include_image_base64=True,\n",
    "    bbox_annotation_format=response_format_from_pydantic_model(Image)\n",
    ")"
   ]
  },
  {
   "cell_type": "code",
   "execution_count": 18,
   "id": "660c5303",
   "metadata": {},
   "outputs": [],
   "source": [
    "import json\n",
    "\n",
    "with open('results.txt', 'w') as f:\n",
    "    f.write(str(ocr_response))\n",
    "    # json.dump(ocr_response, f)"
   ]
  },
  {
   "cell_type": "code",
   "execution_count": 22,
   "id": "8f59ac27",
   "metadata": {},
   "outputs": [
    {
     "data": {
      "text/plain": [
       "140"
      ]
     },
     "execution_count": 22,
     "metadata": {},
     "output_type": "execute_result"
    }
   ],
   "source": [
    "len(ocr_response.pages)"
   ]
  },
  {
   "cell_type": "code",
   "execution_count": 41,
   "id": "edbbfa0e",
   "metadata": {},
   "outputs": [
    {
     "data": {
      "text/plain": [
       "'img-0.jpeg'"
      ]
     },
     "execution_count": 41,
     "metadata": {},
     "output_type": "execute_result"
    }
   ],
   "source": [
    "ocr_response.pages[18].images[0].id"
   ]
  },
  {
   "cell_type": "code",
   "execution_count": 51,
   "id": "fb4b9200",
   "metadata": {},
   "outputs": [],
   "source": [
    "import base64\n",
    "\n",
    "# Example OCRImageObject data\n",
    "ocr_image = {\n",
    "    'id': ocr_response.pages[18].images[0].id,\n",
    "    'image_base64': ocr_response.pages[18].images[0].image_base64  # shortened for example\n",
    "}\n",
    "\n",
    "# Extract the base64 part (remove the prefix \"data:image/jpeg;base64,\")\n",
    "base64_str = ocr_image['image_base64'].split(',')[1]\n",
    "\n",
    "# Decode the base64 string to bytes\n",
    "image_data = base64.b64decode(base64_str)\n",
    "\n",
    "# Save to a file\n",
    "with open(ocr_image['id'], 'wb') as f:\n",
    "    f.write(image_data)"
   ]
  },
  {
   "cell_type": "code",
   "execution_count": 55,
   "id": "364ec338",
   "metadata": {},
   "outputs": [
    {
     "name": "stdout",
     "output_type": "stream",
     "text": [
      "{\n",
      "  \"image_type\": \"Technical Drawing\",\n",
      "  \"short_description\": \"A technical drawing showing restricted and unrestricted areas around circular components.\",\n",
      "  \"summary\": \"This technical drawing illustrates specific spatial constraints around two circular components. The drawing indicates areas where no parts are allowed, marked with a specific pattern, and areas where the view of the surface must remain unobstructed, marked with a different pattern. Each circular component has a diameter of 75 mm, and the restricted areas are clearly defined around these components. The drawing also includes a legend explaining the patterns used to denote the restricted and unrestricted areas.\"\n",
      "}\n"
     ]
    }
   ],
   "source": [
    "print(ocr_response.pages[18].images[0].image_annotation)"
   ]
  },
  {
   "cell_type": "code",
   "execution_count": null,
   "id": "2851a8c4",
   "metadata": {},
   "outputs": [],
   "source": [
    "entities = [\n",
    "    \"figure\",\n",
    "    \"formula\",\n",
    "    \"section\",\n",
    "    \"table\"\n",
    "]"
   ]
  },
  {
   "cell_type": "code",
   "execution_count": 56,
   "id": "91ff5c26",
   "metadata": {},
   "outputs": [],
   "source": [
    "with open('test.md', 'w') as f:\n",
    "    f.write(ocr_response.pages[5].markdown)"
   ]
  },
  {
   "cell_type": "code",
   "execution_count": null,
   "id": "0014bff7",
   "metadata": {},
   "outputs": [],
   "source": []
  }
 ],
 "metadata": {
  "kernelspec": {
   "display_name": ".venv",
   "language": "python",
   "name": "python3"
  },
  "language_info": {
   "codemirror_mode": {
    "name": "ipython",
    "version": 3
   },
   "file_extension": ".py",
   "mimetype": "text/x-python",
   "name": "python",
   "nbconvert_exporter": "python",
   "pygments_lexer": "ipython3",
   "version": "3.13.7"
  }
 },
 "nbformat": 4,
 "nbformat_minor": 5
}
